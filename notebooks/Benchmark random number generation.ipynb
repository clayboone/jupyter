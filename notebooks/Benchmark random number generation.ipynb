{
 "cells": [
  {
   "cell_type": "markdown",
   "metadata": {},
   "source": [
    "# Benchmarking Random Number Generation\n",
    "I'm trying to speed up my monkey_typer module without parallelizing yet. For a single core, right now it's averaging 40,000 random words per second. I've read that `numpy` can generate random numbers faster, but in quick tests I've noticed that Numpy's random number function is actually a lot slower than the builtin `random` module's random() function.\n",
    "\n",
    "I also assume that both of these random number generators are cryptographically secure and I just don't need that level of randomness in monkey_typer. So I'll also be writing a function to hopefully speed it up a bit, while sacraficing quite a bit of actual randomness."
   ]
  },
  {
   "cell_type": "code",
   "execution_count": 2,
   "metadata": {},
   "outputs": [
    {
     "name": "stdout",
     "output_type": "stream",
     "text": [
      "Random module's random(): 5.103912086508387\n",
      "Numpy module's random.random(): 8.585992635916512\n"
     ]
    }
   ],
   "source": [
    "import timeit\n",
    "\n",
    "iterations = 100_000_000\n",
    "\n",
    "print('Random module\\'s random():',\n",
    "      timeit.timeit('random.random', setup='import random', number=iterations))\n",
    "\n",
    "print('Numpy module\\'s random.random():',\n",
    "      timeit.timeit('numpy.random.random', setup='import numpy', number=iterations))"
   ]
  },
  {
   "cell_type": "markdown",
   "metadata": {},
   "source": [
    "I've run this a few times now. `numpy` has never been faster than `random`. It's been between 1.5 and 10 times slower than the builtin `random` module's performance. `numpy` generally takes about twice as long to generate random data compared to `random` and it's a third-party module.\n",
    "\n",
    "Let's try some other functions from the modules."
   ]
  },
  {
   "cell_type": "code",
   "execution_count": null,
   "metadata": {},
   "outputs": [],
   "source": [
    "# random.randit() requires 2 integer parameters, so we need to use a wrapper to pass it to timeit\n",
    "def wrapper(func, *args, **kwargs):\n",
    "    def wrapped():\n",
    "        return func(*args, **kwargs)\n",
    "    return wrapped\n",
    "\n",
    "# import random, wrap randint(), and benchmark\n",
    "import random as py_random\n",
    "wrapped = wrapper(py_random.randint, 1, 100)\n",
    "print('Random module\\'s randint():',\n",
    "     timeit.timeit(wrapped, number=iterations))"
   ]
  }
 ],
 "metadata": {
  "kernelspec": {
   "display_name": "Python 3",
   "language": "python",
   "name": "python3"
  },
  "language_info": {
   "codemirror_mode": {
    "name": "ipython",
    "version": 3
   },
   "file_extension": ".py",
   "mimetype": "text/x-python",
   "name": "python",
   "nbconvert_exporter": "python",
   "pygments_lexer": "ipython3",
   "version": "3.6.3"
  }
 },
 "nbformat": 4,
 "nbformat_minor": 2
}
