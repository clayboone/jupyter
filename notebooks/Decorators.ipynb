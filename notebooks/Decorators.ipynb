{
 "cells": [
  {
   "cell_type": "markdown",
   "metadata": {},
   "source": [
    "# Decorating Python 3\n",
    "\n",
    "Following [this](https://python-3-patterns-idioms-test.readthedocs.io/en/latest/PythonDecorators.html) seems more reasonable than the official Python docs because those go directly to the `functools` library rather than actually explaining what decorators are and why they're important. And contextlib isn't mentioned at all."
   ]
  },
  {
   "cell_type": "code",
   "execution_count": 35,
   "metadata": {},
   "outputs": [
    {
     "name": "stdout",
     "output_type": "stream",
     "text": [
      "Inside my_decorator.__init__()\n"
     ]
    }
   ],
   "source": [
    "class my_decorator(object):\n",
    "    \"\"\"A noisey, but simple decorator\"\"\"\n",
    "    def __init__(self, func):\n",
    "        \"\"\"Called at '@' decoration time.\"\"\"\n",
    "        print('Inside my_decorator.__init__()')\n",
    "        self.func = func\n",
    "    \n",
    "    def __call__(self, *args, **kwargs):\n",
    "        \"\"\"Called at func() run time.\"\"\"\n",
    "        print('Inside my_decorator.__call__()')\n",
    "        print('About to run self.func...')\n",
    "        self.func(*args, **kwargs)\n",
    "        print('Done. Leaving my_decorator.__call__()')\n",
    "\n",
    "@my_decorator\n",
    "def my_func(*args, **kwargs):\n",
    "    print('Inside my_func()')"
   ]
  },
  {
   "cell_type": "markdown",
   "metadata": {},
   "source": [
    "I haven't even called `my_func()` yet and the decorator's `__init__` method gets run."
   ]
  },
  {
   "cell_type": "code",
   "execution_count": 51,
   "metadata": {},
   "outputs": [
    {
     "name": "stdout",
     "output_type": "stream",
     "text": [
      "Inside my_decorator.__init__()\n",
      "Inside my_decorator.__init__()\n",
      "About to call my_print_func_without_args...\n",
      "Inside my_decorator.__call__()\n",
      "About to run self.func...\n",
      "Inside my_print_func_without_args()\n",
      "Done. Leaving my_decorator.__call__()\n",
      "About to call my_print_func_with_args...\n",
      "Inside my_decorator.__call__()\n",
      "About to run self.func...\n",
      "Inside my_print_func_with_args\n",
      "Arg in position 0 is hello\n",
      "Arg in position 1 is 42\n",
      "word => cats!\n",
      "Done. Leaving my_decorator.__call__()\n"
     ]
    }
   ],
   "source": [
    "@my_decorator\n",
    "def my_print_func_without_args():\n",
    "    print('Inside my_print_func_without_args()')\n",
    "\n",
    "@my_decorator\n",
    "def my_print_func_with_args(*args, **kwargs):\n",
    "    print('Inside my_print_func_with_args')\n",
    "    for i, arg in enumerate(args):\n",
    "        print('Arg in position {} is {}'.format(i, arg))\n",
    "    for k, v in kwargs.items():\n",
    "        print(' => '.join((k, v)))\n",
    "\n",
    "print('About to call my_print_func_without_args...')\n",
    "my_print_func_without_args()\n",
    "\n",
    "print('About to call my_print_func_with_args...')\n",
    "my_print_func_with_args('hello', 42, word='cats!')"
   ]
  },
  {
   "cell_type": "markdown",
   "metadata": {},
   "source": [
    "There's also a way to pass arguments to the decorators themselves without passing them to the function. Pass them to `__init__()` (if you're using a class), or just pass them to the decorator function if you're not using a class.\n",
    "\n",
    "But passing arguments to the decorator function or class changes what your `__call__()` method or decorator function needs to return. It should return a wrapper function to the function being decorated, instead of the function being decorated directly."
   ]
  },
  {
   "cell_type": "code",
   "execution_count": 26,
   "metadata": {},
   "outputs": [
    {
     "name": "stdout",
     "output_type": "stream",
     "text": [
      "Inside __init__()\n",
      "Inside __call__()\n",
      "After decoration\n",
      "Preparing to call sayHello()\n",
      "Inside wrapped_f()\n",
      "Decorator arguments: hello world 42\n",
      "sayHello arguments: say hello argument list\n",
      "After f(*args)\n",
      "after first sayHello() call\n",
      "Inside wrapped_f()\n",
      "Decorator arguments: hello world 42\n",
      "sayHello arguments: a different set of arguments\n",
      "After f(*args)\n",
      "after second sayHello() call\n"
     ]
    }
   ],
   "source": [
    "# Note: copy pasta from the linked readthedocs.io above.\n",
    "# PythonDecorators/decorator_with_arguments.py\n",
    "class decorator_with_arguments(object):\n",
    "\n",
    "    def __init__(self, arg1, arg2, arg3):\n",
    "        \"\"\"\n",
    "        If there are decorator arguments, the function\n",
    "        to be decorated is not passed to the constructor!\n",
    "        \"\"\"\n",
    "        print(\"Inside __init__()\")\n",
    "        self.arg1 = arg1\n",
    "        self.arg2 = arg2\n",
    "        self.arg3 = arg3\n",
    "\n",
    "    def __call__(self, f):\n",
    "        \"\"\"\n",
    "        If there are decorator arguments, __call__() is only called\n",
    "        once, as part of the decoration process! You can only give\n",
    "        it a single argument, which is the function object.\n",
    "        \"\"\"\n",
    "        print(\"Inside __call__()\")\n",
    "        def wrapped_f(*args):\n",
    "            print(\"Inside wrapped_f()\")\n",
    "            print(\"Decorator arguments:\", self.arg1, self.arg2, self.arg3)\n",
    "            f(*args)\n",
    "            print(\"After f(*args)\")\n",
    "        return wrapped_f\n",
    "\n",
    "@decorator_with_arguments(\"hello\", \"world\", 42)\n",
    "def sayHello(a1, a2, a3, a4):\n",
    "    print('sayHello arguments:', a1, a2, a3, a4)\n",
    "\n",
    "print(\"After decoration\")\n",
    "\n",
    "print(\"Preparing to call sayHello()\")\n",
    "sayHello(\"say\", \"hello\", \"argument\", \"list\")\n",
    "print(\"after first sayHello() call\")\n",
    "sayHello(\"a\", \"different\", \"set of\", \"arguments\")\n",
    "print(\"after second sayHello() call\")"
   ]
  },
  {
   "cell_type": "markdown",
   "metadata": {},
   "source": [
    "### Everything in Context\n",
    "\n",
    "Now I'm wondering if I can use `contextlib`'s **AbstractContextManager** as a base class for a custom decorator."
   ]
  },
  {
   "cell_type": "code",
   "execution_count": 59,
   "metadata": {},
   "outputs": [
    {
     "ename": "SyntaxError",
     "evalue": "invalid syntax (<ipython-input-59-2dedc9d01b6b>, line 33)",
     "output_type": "error",
     "traceback": [
      "\u001b[1;36m  File \u001b[1;32m\"<ipython-input-59-2dedc9d01b6b>\"\u001b[1;36m, line \u001b[1;32m33\u001b[0m\n\u001b[1;33m    my_really_bad_math_function(*args, operation):\u001b[0m\n\u001b[1;37m                                                  ^\u001b[0m\n\u001b[1;31mSyntaxError\u001b[0m\u001b[1;31m:\u001b[0m invalid syntax\n"
     ]
    }
   ],
   "source": [
    "from contextlib import AbstractContextManager\n",
    "\n",
    "class decore(AbstractContextManager):\n",
    "    \"\"\"Subclass of AbstractContextManager\"\"\"\n",
    "    def __init__(self, func):\n",
    "        \"\"\"Decoration time\"\"\"\n",
    "        print('AbstractContextManager::decore.__init__()')\n",
    "        self.func = func\n",
    "    \n",
    "    def __enter__(self, *args, **kwargs):\n",
    "        \"\"\"Entry point of context manager\"\"\"\n",
    "        print('AbstractContextManager::decore.__enter__()')\n",
    "        self.func(*args, **kwargs)\n",
    "        yield\n",
    "    \n",
    "    def __exit__(self, exc_type, exc_value, traceback):\n",
    "        \"\"\"Exit point of context manager\n",
    "        \n",
    "        According to the docs, the three arguments passed are the exception\n",
    "        that was raised during either __enter__ or the body of the with\n",
    "        statement (in our case, the function being decorated).\n",
    "        \n",
    "        If no exception was raised, all arguments will be None. \n",
    "        \n",
    "        If the exception arguments are not None, as we wish to supress them,\n",
    "        then we should return True here. Otherwise, they will propogate norm-\n",
    "        ally after this method.\n",
    "        \"\"\"\n",
    "        print('AbstractContextManager::decore.__enter__()')\n",
    "\n",
    "\n",
    "#@decore\n",
    "my_really_bad_math_function(*args, operation):\n",
    "    print('my_function_with_args()')\n",
    "    x, *y, z = *args\n",
    "    if operation == 'add':\n",
    "        return x + z\n",
    "    elif operation == 'subtract':\n",
    "        return x // y\n",
    "    else:\n",
    "        print('I can\\'t do that operation, I\\'ll guess though!')\n",
    "        return 4\n",
    "\n"
   ]
  },
  {
   "cell_type": "markdown",
   "metadata": {},
   "source": [
    "invalid syntax.. well, i may have to come back to this later.."
   ]
  }
 ],
 "metadata": {
  "kernelspec": {
   "display_name": "Python 3",
   "language": "python",
   "name": "python3"
  },
  "language_info": {
   "codemirror_mode": {
    "name": "ipython",
    "version": 3
   },
   "file_extension": ".py",
   "mimetype": "text/x-python",
   "name": "python",
   "nbconvert_exporter": "python",
   "pygments_lexer": "ipython3",
   "version": "3.6.3"
  }
 },
 "nbformat": 4,
 "nbformat_minor": 2
}
