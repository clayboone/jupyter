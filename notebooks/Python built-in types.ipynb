{
 "cells": [
  {
   "cell_type": "markdown",
   "metadata": {
    "slideshow": {
     "slide_type": "-"
    }
   },
   "source": [
    "# A Simplified Explanation of Data Types in Python"
   ]
  },
  {
   "cell_type": "markdown",
   "metadata": {
    "slideshow": {
     "slide_type": "-"
    }
   },
   "source": [
    "Like every language out there, Python calls different types of data different things.\n",
    "\n",
    "C calls a series of elements in a certain order in memory an \"Array\" almost regardless of the type of data it holds; C++ calls them arrays as well, but reserves a special, pre-declared type a \"Vector.\" If that array or vector holds data which can be displayed on a screen with some character encoding (eg. ASCII or UTF-8), then they're promoted to strings (with the famous caveat of null termination). Then, in C++ at least, there's a special String class with which you're expected not to confuse any of this.\n",
    "\n",
    "A list of data in Python is called a `list`. If it can be displayed, it can be called a `str` or string, but I feel like that's already splitting hairs. So let's back up."
   ]
  },
  {
   "cell_type": "markdown",
   "metadata": {
    "slideshow": {
     "slide_type": "-"
    }
   },
   "source": [
    "### Types of Data in Python\n",
    "> A list of lists of lists"
   ]
  },
  {
   "cell_type": "markdown",
   "metadata": {},
   "source": [
    "Python has a ~~range~~ selection of types of data. I'm going to start with just two of them, because the remainder are more or less just derived therefrom:"
   ]
  },
  {
   "cell_type": "code",
   "execution_count": 1,
   "metadata": {
    "slideshow": {
     "slide_type": "fragment"
    }
   },
   "outputs": [],
   "source": [
    "# Integers: Mathematically whole numbers.\n",
    "my_integer = 1072\n",
    "\n",
    "# Floating-point numbers: Mathematically real numbers.\n",
    "my_float = 30.1"
   ]
  },
  {
   "cell_type": "markdown",
   "metadata": {},
   "source": [
    "It's not exactly fair to say that every other type of data can be derived from just these two, but you can convert between almost any type of data with them.\n",
    "\n",
    "Before doing that though, I'll introduce a few more of the most common built-in data types."
   ]
  },
  {
   "cell_type": "code",
   "execution_count": 2,
   "metadata": {},
   "outputs": [],
   "source": [
    "# Strings: Immutable sequences of printable characters.\n",
    "my_string = 'Michael'\n",
    "\n",
    "# Lists: Mutable sequences of types of data (all integers here).\n",
    "my_list = [21, 22, 23, 24, 25, 26, 27, 28, 29, 31, 32, 33, 34, 38, 39]\n",
    "\n",
    "# Tuples: Immutable sequences of types of data\n",
    "my_tuple = (1984, 2003)"
   ]
  },
  {
   "cell_type": "markdown",
   "metadata": {},
   "source": [
    "### A Type of Data Type...\n",
    "> The metadata of the metadata"
   ]
  },
  {
   "cell_type": "markdown",
   "metadata": {},
   "source": [
    "Before moving into more intesting types of data, there's a small nuance about *types of types of date* in Python. That is that while some can be changed in-place in memory, others cannot. This is the data type's property of mutability.\n",
    "\n",
    "**A mutable object can be modifed in-place without the need to create a new object. An immutable object cannot be changed. You must create a new object and assign it a new value**\n",
    "\n",
    "For reference, here's a list of the data types broken down into categories based on whether or not they're mutable.\n",
    "\n",
    "**Immutable data types:**\n",
    "- Numeric types like `int` integers, `float` floating point numbers, and `complex` complex numbers\n",
    "- Sequences of types `str`, `tuple`, `bytes`, and `frozenset` ordered sets\n",
    "- Boolean values of type `bool`\n",
    "\n",
    "**Mutable data types**\n",
    "- Sequences of types `list` lists, `bytearray` arrays of bytes, and `set` unordered sets\n",
    "- Dictionaries of type `dict`\n",
    "\n",
    "Let's try and change a data of type `str` and see what happens. Since I expect this to fail, I'll wrap the part of the code which changes something in `try` statement."
   ]
  },
  {
   "cell_type": "code",
   "execution_count": 3,
   "metadata": {},
   "outputs": [
    {
     "name": "stdout",
     "output_type": "stream",
     "text": [
      "Value of my_string before changing: 'Michael'\n",
      "Value of my_string after changing:  'Jordan'\n"
     ]
    }
   ],
   "source": [
    "print('Value of my_string before changing: \\'' + my_string + '\\'')\n",
    "\n",
    "# The change\n",
    "my_string = 'Jordan'\n",
    "\n",
    "print('Value of my_string after changing:  \\'' + my_string + '\\'')"
   ]
  },
  {
   "cell_type": "markdown",
   "metadata": {},
   "source": [
    "*\"But it worked! You said you couldn't change strings!\"*\n",
    "\n",
    "This is a part that can be tricky to new Python programmers. And sometimes to experienced programmers moving between languages. Since variables are pointers to data, and not data itself, you can freely modify them. In the previous code, the object in memory pointed to by `my_string` was read and printed in line 1. Then, in line 4, the Python interpretter created a new memory object at a new memory location and filled it with the value 'Jordan'. Then pointed the variable `my_string` at this new object at this new memory location. The `str` data were never changed.\n",
    "\n",
    "To explain a different way, I want to show you how the string might look in-memory.\n",
    "```\n",
    "    Character:         J   o   r   d   a   n\n",
    "                       ---------------------\n",
    "    Index in string:   0   1   2   3   4   5\n",
    "```\n",
    "\n",
    "We can pick any index of the string we want and inspect its data:"
   ]
  },
  {
   "cell_type": "code",
   "execution_count": 4,
   "metadata": {},
   "outputs": [
    {
     "data": {
      "text/plain": [
       "'J'"
      ]
     },
     "execution_count": 4,
     "metadata": {},
     "output_type": "execute_result"
    }
   ],
   "source": [
    "my_string[0]"
   ]
  },
  {
   "cell_type": "markdown",
   "metadata": {},
   "source": [
    "A new string 'J' was returned to us.\n",
    "\n",
    "However, it's difficult to change the data at that index since a `str` is immutable:"
   ]
  },
  {
   "cell_type": "code",
   "execution_count": 5,
   "metadata": {},
   "outputs": [
    {
     "name": "stdout",
     "output_type": "stream",
     "text": [
      "Oops! 'str' object does not support item assignment\n"
     ]
    }
   ],
   "source": [
    "try:\n",
    "    my_string[0] = 'B'\n",
    "\n",
    "except Exception as error:\n",
    "    print('Oops!', error)"
   ]
  },
  {
   "cell_type": "markdown",
   "metadata": {},
   "source": [
    "Lists on the other hand are mutable. We can change any value in a list. So let's inspect the element at the first index of `my_list` created earlier:"
   ]
  },
  {
   "cell_type": "code",
   "execution_count": 6,
   "metadata": {},
   "outputs": [
    {
     "data": {
      "text/plain": [
       "21"
      ]
     },
     "execution_count": 6,
     "metadata": {},
     "output_type": "execute_result"
    }
   ],
   "source": [
    "my_list[0]"
   ]
  },
  {
   "cell_type": "markdown",
   "metadata": {},
   "source": [
    "And attempt to change it as well:"
   ]
  },
  {
   "cell_type": "code",
   "execution_count": 7,
   "metadata": {},
   "outputs": [],
   "source": [
    "try:\n",
    "    my_list[0] = 99\n",
    "\n",
    "except Exception as error:\n",
    "    print('Oops!', error)"
   ]
  },
  {
   "cell_type": "markdown",
   "metadata": {},
   "source": [
    "The *\"Oops!\"* line didn't execute, so we know that the assignment worked:"
   ]
  },
  {
   "cell_type": "code",
   "execution_count": 8,
   "metadata": {},
   "outputs": [
    {
     "data": {
      "text/plain": [
       "99"
      ]
     },
     "execution_count": 8,
     "metadata": {},
     "output_type": "execute_result"
    }
   ],
   "source": [
    "my_list[0]"
   ]
  },
  {
   "cell_type": "markdown",
   "metadata": {},
   "source": [
    "### Lists of Lists\n",
    "> ...of lists of lists..."
   ]
  },
  {
   "cell_type": "markdown",
   "metadata": {},
   "source": [
    "Lists and tuples can contain other types of data, including other lists and tuples. These together make multidimensional arrays. And can be accessed and *-in the case of the `list` data type-* modified using the same syntax:"
   ]
  },
  {
   "cell_type": "code",
   "execution_count": 9,
   "metadata": {},
   "outputs": [
    {
     "data": {
      "text/plain": [
       "['Jordan',\n",
       " (1984, 2003),\n",
       " [99, 22, 23, 24, 25, 26, 27, 28, 29, 31, 32, 33, 34, 38, 39]]"
      ]
     },
     "execution_count": 9,
     "metadata": {},
     "output_type": "execute_result"
    }
   ],
   "source": [
    "my_new_list = [my_string, my_tuple, my_list]\n",
    "\n",
    "my_new_list"
   ]
  },
  {
   "cell_type": "markdown",
   "metadata": {},
   "source": [
    "Let's dig a little deeper into what each part of the outer list is to see which ones we are able to change, if any."
   ]
  },
  {
   "cell_type": "code",
   "execution_count": 13,
   "metadata": {},
   "outputs": [
    {
     "name": "stdout",
     "output_type": "stream",
     "text": [
      "my_new_list[0] is type <class 'str'> and has value Jordan\n",
      "my_new_list[1] is type <class 'tuple'> and has value (1984, 2003)\n",
      "my_new_list[2] is type <class 'list'> and has value [99, 22, 23, 24, 25, 26, 27, 28, 29, 31, 32, 33, 34, 38, 39]\n"
     ]
    }
   ],
   "source": [
    "length_of_new_list = len(my_new_list)\n",
    "\n",
    "for index in range(length_of_new_list):\n",
    "    print('my_new_list[{}] is type {} and has value {}'.format(\n",
    "        index,\n",
    "        type(my_new_list[index]),\n",
    "        my_new_list[index]\n",
    "    ))"
   ]
  },
  {
   "cell_type": "markdown",
   "metadata": {},
   "source": [
    "The first element is type `str` so we cannot change its elements directly, but we can change the object at which it is point, just like any other string.\n",
    "\n",
    "The same is true for the second element because it's a `tuple` type and is also immutable.\n",
    "\n",
    "The third element is our old list inside of our new list."
   ]
  }
 ],
 "metadata": {
  "kernelspec": {
   "display_name": "Python 3",
   "language": "python",
   "name": "python3"
  },
  "language_info": {
   "codemirror_mode": {
    "name": "ipython",
    "version": 3
   },
   "file_extension": ".py",
   "mimetype": "text/x-python",
   "name": "python",
   "nbconvert_exporter": "python",
   "pygments_lexer": "ipython3",
   "version": "3.6.3"
  }
 },
 "nbformat": 4,
 "nbformat_minor": 2
}
