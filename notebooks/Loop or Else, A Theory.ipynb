{
 "cells": [
  {
   "cell_type": "markdown",
   "metadata": {},
   "source": [
    "I've read that while/else contructs run the `else` block only if the loop is broken out of with a `break`. Now I'm watching a Python guy on YouTube and he's saying the exact opposite is true for for/else blocks. Lets try it out and maybe clear up this confusion.."
   ]
  },
  {
   "cell_type": "code",
   "execution_count": 1,
   "metadata": {},
   "outputs": [
    {
     "name": "stdout",
     "output_type": "stream",
     "text": [
      "[990, 1980, 2970, 3960, 4950, 5940, 6930, 7920, 8910, 9900]\n"
     ]
    }
   ],
   "source": [
    "# I started watching this video for zip/map comparisons\n",
    "a = list(range(10, 101, 10))\n",
    "b = list(range(1000, 10_001, 1000))\n",
    "c = list(map(lambda x, y: y - x, a, b))\n",
    "print(c)"
   ]
  },
  {
   "cell_type": "code",
   "execution_count": 2,
   "metadata": {},
   "outputs": [],
   "source": [
    "# Test that while/else runs the else block after a `break`\n",
    "t = 0\n",
    "while t < len(c):\n",
    "    x = c[t]\n",
    "    if x > 5000:\n",
    "        break\n",
    "    t += 1\n",
    "else:\n",
    "    print('Hello from while/else break test')\n",
    "\n",
    "# Test that for/else runs the else block after a `break`\n",
    "for x in c:\n",
    "    if x > 5000:\n",
    "        break\n",
    "else:\n",
    "    print('Hello from for/else break test')"
   ]
  },
  {
   "cell_type": "markdown",
   "metadata": {},
   "source": [
    "So neither of these else clauses run. The video might be for Python 2.7 though, ~~and I'm unable to test with that~~ which doesn't matter because, after testing at [repl.it](https://repl.it/@tener/IrresponsibleLightskyblueBengaltiger), it isn't correct for Python 2.7 either. The loops run fine. `x` is correctly 5940 in each snippet, but it never says 'Hello.' :-(\n",
    "\n",
    "Trying a different way, we'll let the loops run to completion by changing the `break`s to `pass`es"
   ]
  },
  {
   "cell_type": "code",
   "execution_count": 3,
   "metadata": {},
   "outputs": [
    {
     "name": "stdout",
     "output_type": "stream",
     "text": [
      "Hello from while/else pass test\n",
      "Hello from for/else pass test\n"
     ]
    }
   ],
   "source": [
    "# Test that while/else runs the else block after a `break`\n",
    "t = 0\n",
    "while t < len(c):\n",
    "    x = c[t]\n",
    "    if x > 5000:\n",
    "        pass\n",
    "    t += 1\n",
    "else:\n",
    "    print('Hello from while/else pass test')\n",
    "\n",
    "# Test that for/else runs the else block after a `break`\n",
    "for x in c:\n",
    "    if x > 5000:\n",
    "        pass\n",
    "else:\n",
    "    print('Hello from for/else pass test')"
   ]
  },
  {
   "cell_type": "markdown",
   "metadata": {},
   "source": [
    "###### `t = 0`\n",
    "If the loop runs all the way through without running into a `break` statement, the `else` block runs.\n",
    "\n",
    "###### `t = 10`\n",
    "If the loop doesn't run at all because its start condition was never satisfied, the `else` block runs.\n",
    "\n",
    "###### `break`\n",
    "I think the use here is `break`, but in a [non-obvious way](http://python-notes.curiousefficiency.org/en/latest/python_concepts/break_else.html). If the loop is `break`ed out of, the `else` statement does **not** run. From this test, it seems the only way to make the `else` block *not* run is to `break` out of the `for` or `while` block."
   ]
  },
  {
   "cell_type": "markdown",
   "metadata": {},
   "source": [
    "### Interesting Note\n",
    "\n",
    "Nick Coghlan, from the link in that last comment, also points out this little tidbit to try and help explain this behaviour."
   ]
  },
  {
   "cell_type": "code",
   "execution_count": 13,
   "metadata": {},
   "outputs": [
    {
     "name": "stdout",
     "output_type": "stream",
     "text": [
      "exception raised\n",
      "...rest of program...\n"
     ]
    }
   ],
   "source": [
    "a = list(range(10))\n",
    "\n",
    "try:\n",
    "    a[10] = 1\n",
    "except Exception as e:\n",
    "    print('exception raised')\n",
    "else:\n",
    "    print('no exception raised')\n",
    "\n",
    "print('...rest of program...')"
   ]
  },
  {
   "cell_type": "markdown",
   "metadata": {},
   "source": [
    "This makes much more sense to me, but now I'm wondering why not give the for/else and while/else constructs a `finally:` block as well..."
   ]
  }
 ],
 "metadata": {
  "kernelspec": {
   "display_name": "Python 3",
   "language": "python",
   "name": "python3"
  },
  "language_info": {
   "codemirror_mode": {
    "name": "ipython",
    "version": 3
   },
   "file_extension": ".py",
   "mimetype": "text/x-python",
   "name": "python",
   "nbconvert_exporter": "python",
   "pygments_lexer": "ipython3",
   "version": "3.6.3"
  }
 },
 "nbformat": 4,
 "nbformat_minor": 2
}
